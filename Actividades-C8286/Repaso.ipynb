{
 "cells": [
  {
   "cell_type": "markdown",
   "metadata": {},
   "source": [
    "### Actividad: Repaso de conceptos iniciales"
   ]
  },
  {
   "cell_type": "markdown",
   "metadata": {},
   "source": [
    "####  Creación y ejecución de hilos, una forma común de implementar concurrencia"
   ]
  },
  {
   "cell_type": "code",
   "execution_count": null,
   "metadata": {},
   "outputs": [],
   "source": [
    "import threading\n",
    "\n",
    "# Definición de una función para el hilo\n",
    "def cocinar_plato(nombre):\n",
    "    print(f\"Cocinando {nombre}...\")\n",
    "\n",
    "# Creación de hilos para diferentes platos\n",
    "hilo1 = threading.Thread(target=cocinar_plato, args=(\"Paella\",))\n",
    "hilo2 = threading.Thread(target=cocinar_plato, args=(\"Ratatouille\",))\n",
    "\n",
    "# Inicio de los hilos\n",
    "hilo1.start()\n",
    "hilo2.start()\n",
    "\n",
    "# Esperar a que ambos hilos terminen\n",
    "hilo1.join()\n",
    "hilo2.join()\n",
    "\n",
    "print(\"Todos los platos están listos!\")"
   ]
  },
  {
   "cell_type": "markdown",
   "metadata": {},
   "source": [
    "Este código es como tener dos chefs en la cocina: uno preparando `Paella` y el otro `Ratatouille`. Ambos trabajan al mismo tiempo, cada uno en su tarea, demostrando la esencia de la concurrencia. La coordinación se maneja a través del uso de `join()`, asegurando que el programa principal espere a que ambos chefs (hilos) terminen antes de declarar que todos los platos están listos.\n",
    "\n"
   ]
  },
  {
   "cell_type": "markdown",
   "metadata": {},
   "source": [
    "#### Uso de threading y un recurso compartido"
   ]
  },
  {
   "cell_type": "code",
   "execution_count": null,
   "metadata": {},
   "outputs": [],
   "source": [
    "import threading\n",
    "\n",
    "# Variable compartida\n",
    "plato_en_preparación = 0\n",
    "\n",
    "# Función para modificar el recurso compartido\n",
    "def preparar_plato():\n",
    "    global plato_en_preparación\n",
    "    for _ in range(1000000):\n",
    "        plato_en_preparación += 1\n",
    "\n",
    "# Crear dos hilos que modifican el recurso compartido\n",
    "hilo1 = threading.Thread(target=preparar_plato)\n",
    "hilo2 = threading.Thread(target=preparar_plato)\n",
    "\n",
    "hilo1.start()\n",
    "hilo2.start()\n",
    "\n",
    "hilo1.join()\n",
    "hilo2.join()\n",
    "\n",
    "print(f\"Total de platos preparados: {plato_en_preparación}\")\n"
   ]
  },
  {
   "cell_type": "markdown",
   "metadata": {},
   "source": [
    "Este ejemplo ilustra cómo la falta de sincronización puede llevar a un recuento incorrecto de platos preparados, subrayando la importancia de mecanismos como semáforos o bloqueos para gestionar el acceso al recurso compartido."
   ]
  },
  {
   "cell_type": "markdown",
   "metadata": {},
   "source": [
    "#### Simulación del paso de mensajes usando colas"
   ]
  },
  {
   "cell_type": "code",
   "execution_count": null,
   "metadata": {},
   "outputs": [],
   "source": [
    "import threading\n",
    "import queue\n",
    "\n",
    "# Cola para mensajes\n",
    "orden_cocina = queue.Queue()\n",
    "\n",
    "# Función del chef que solicita ingredientes\n",
    "def chef():\n",
    "    for ingrediente in [\"tomate\", \"queso\", \"masa\"]:\n",
    "        print(f\"Chef: necesito {ingrediente}\")\n",
    "        orden_cocina.put(ingrediente)\n",
    "\n",
    "# Función del ayudante que provee ingredientes\n",
    "def ayudante():\n",
    "    while not orden_cocina.empty():\n",
    "        ingrediente = orden_cocina.get()\n",
    "        print(f\"Ayudante: aquí tienes {ingrediente}\")\n",
    "\n",
    "# Iniciar los hilos\n",
    "threading.Thread(target=chef).start()\n",
    "threading.Thread(target=ayudante).start()\n"
   ]
  },
  {
   "cell_type": "markdown",
   "metadata": {},
   "source": [
    "Este código representa una cocina donde la comunicación clara y la división de tareas previenen el caos, demostrando cómo el paso de mensajes facilita la colaboración sin conflictos directos sobre los recursos."
   ]
  },
  {
   "cell_type": "markdown",
   "metadata": {},
   "source": [
    "#### Creación de procesos y threads para realizar tareas simples"
   ]
  },
  {
   "cell_type": "code",
   "execution_count": null,
   "metadata": {},
   "outputs": [],
   "source": [
    "import threading\n",
    "import multiprocessing\n",
    "\n",
    "# Tarea para threads\n",
    "def tarea_thread(nombre):\n",
    "    print(f\"Thread {nombre} está corriendo\")\n",
    "\n",
    "# Tarea para procesos\n",
    "def tarea_proceso(nombre):\n",
    "    print(f\"Proceso {nombre} está corriendo\")\n",
    "\n",
    "# Crear y ejecutar threads\n",
    "threads = [threading.Thread(target=tarea_thread, args=(f\"Thread-{i}\",)) for i in range(3)]\n",
    "for t in threads:\n",
    "    t.start()\n",
    "for t in threads:\n",
    "    t.join()\n",
    "\n",
    "# Crear y ejecutar procesos\n",
    "procesos = [multiprocessing.Process(target=tarea_proceso, args=(f\"Proceso-{i}\",)) for i in range(3)]\n",
    "for p in procesos:\n",
    "    p.start()\n",
    "for p in procesos:\n",
    "    p.join()\n"
   ]
  },
  {
   "cell_type": "markdown",
   "metadata": {},
   "source": [
    "Este ejemplo demuestra cómo crear y ejecutar múltiples threads y procesos en Python. Cada thread dentro de un proceso puede ejecutarse concurrentemente, compartiendo el mismo espacio de memoria, mientras que cada proceso se ejecuta de manera independiente, con su propio espacio de memoria."
   ]
  },
  {
   "cell_type": "markdown",
   "metadata": {},
   "source": [
    "#### El concepto de time-slicing "
   ]
  },
  {
   "cell_type": "code",
   "execution_count": null,
   "metadata": {},
   "outputs": [],
   "source": [
    "import threading\n",
    "import time\n",
    "\n",
    "# Definición de las tareas\n",
    "def tarea1():\n",
    "    for i in range(5):\n",
    "        print(\"Tarea 1 se está ejecutando\")\n",
    "        time.sleep(0.5)  # Simula el trabajo de la tarea\n",
    "\n",
    "def tarea2():\n",
    "    for i in range(5):\n",
    "        print(\"Tarea 2 se está ejecutando\")\n",
    "        time.sleep(0.5)  # Simula el trabajo de la tarea\n",
    "\n",
    "# Creación de los threads\n",
    "hilo1 = threading.Thread(target=tarea1)\n",
    "hilo2 = threading.Thread(target=tarea2)\n",
    "\n",
    "# Inicio de los threads\n",
    "hilo1.start()\n",
    "hilo2.start()\n",
    "\n",
    "# Esperamos a que ambos hilos terminen\n",
    "hilo1.join()\n",
    "hilo2.join()\n"
   ]
  },
  {
   "cell_type": "markdown",
   "metadata": {},
   "source": [
    "Este ejemplo demuestra cómo dos tareas (simuladas por `tarea1` y `tarea2`) pueden \"compartir\" el CPU, alternando su ejecución mediante el uso de pausas (`time.sleep`), que simulan el trabajo realizado. Aunque este código no implementa `time-slicing` directamente (ya que ese es un mecanismo gestionado por el sistema operativo), ayuda a visualizar cómo diferentes tareas pueden avanzar aparentemente de manera simultánea."
   ]
  },
  {
   "cell_type": "markdown",
   "metadata": {},
   "source": [
    "#### Sincronizando acceso a memoria compartida"
   ]
  },
  {
   "cell_type": "code",
   "execution_count": null,
   "metadata": {},
   "outputs": [],
   "source": [
    "import threading\n",
    "\n",
    "# Un contador compartido\n",
    "contador = 0\n",
    "\n",
    "# Un lock para sincronizar el acceso al contador\n",
    "lock = threading.Lock()\n",
    "\n",
    "def incrementar_contador():\n",
    "    global contador\n",
    "    for _ in range(100000):\n",
    "        with lock:\n",
    "            contador += 1\n",
    "\n",
    "# Creando threads para incrementar el contador\n",
    "threads = [threading.Thread(target=incrementar_contador) for _ in range(10)]\n",
    "\n",
    "# Iniciar threads\n",
    "for t in threads:\n",
    "    t.start()\n",
    "\n",
    "# Esperar a que todos los threads terminen\n",
    "for t in threads:\n",
    "    t.join()\n",
    "\n",
    "print(f\"Valor final del contador: {contador}\")\n"
   ]
  },
  {
   "cell_type": "markdown",
   "metadata": {},
   "source": [
    "Ejemplo de cómo varios threads pueden modificar de forma segura un objeto compartido en Python utilizando `Lock` para sincronizar el acceso. Este código demuestra un patrón clásico en la programación concurrente: sincronizar el acceso a recursos compartidos (en este caso, un contador simple) para evitar condiciones de carrera. Aquí, `Lock` actúa como un vigilante, asegurando que solo un thread a la vez pueda modificar el contador. Esto evita que los threads sobrescriban los cambios de los demás, garantizando que el contador se incremente correctamente."
   ]
  },
  {
   "cell_type": "markdown",
   "metadata": {},
   "source": [
    "#### Condiciones de carrera"
   ]
  },
  {
   "cell_type": "code",
   "execution_count": null,
   "metadata": {},
   "outputs": [],
   "source": [
    "import threading\n",
    "\n",
    "# Recurso compartido\n",
    "contador = 0\n",
    "\n",
    "def incrementar():\n",
    "    global contador\n",
    "    for _ in range(10000):\n",
    "        contador += 1\n",
    "\n",
    "def decrementar():\n",
    "    global contador\n",
    "    for _ in range(10000):\n",
    "        contador -= 1\n",
    "\n",
    "# Creando threads\n",
    "thread1 = threading.Thread(target=incrementar)\n",
    "thread2 = threading.Thread(target=decrementar)\n",
    "\n",
    "# Iniciando threads\n",
    "thread1.start()\n",
    "thread2.start()\n",
    "\n",
    "# Esperando a que ambos threads terminen\n",
    "thread1.join()\n",
    "thread2.join()\n",
    "\n",
    "print(f\"Valor final del contador: {contador}\")\n"
   ]
  },
  {
   "cell_type": "markdown",
   "metadata": {},
   "source": [
    "En este código, dos threads modifican un contador compartido: uno lo incrementa y el otro lo decrementa. Sin sincronización adecuada, las operaciones de incremento y decremento pueden entrelazarse de manera que el contador final no sea cero como se esperaría, revelando una condición de carrera."
   ]
  },
  {
   "cell_type": "markdown",
   "metadata": {},
   "source": [
    "#### División de una tarea sencilla entre varios procesos en Python"
   ]
  },
  {
   "cell_type": "code",
   "execution_count": null,
   "metadata": {},
   "outputs": [],
   "source": [
    "from concurrent.futures import ProcessPoolExecutor\n",
    "import math\n",
    "\n",
    "# Una tarea simple que queremos ejecutar en paralelo\n",
    "def calcular_raiz_cuadrada(numeros):\n",
    "    return {n: math.sqrt(n) for n in numeros}\n",
    "\n",
    "# Dividir una lista de números en 4 partes para procesar en paralelo\n",
    "numeros = range(1, 1001)\n",
    "chunk_size = len(numeros) // 4\n",
    "chunks = [numeros[i:i + chunk_size] for i in range(0, len(numeros), chunk_size)]\n",
    "\n",
    "# Usar ProcessPoolExecutor para ejecutar nuestras tareas en paralelo\n",
    "with ProcessPoolExecutor(max_workers=4) as executor:\n",
    "    resultados = list(executor.map(calcular_raiz_cuadrada, chunks))\n",
    "\n",
    "# Fusionar los resultados de los chunks en un solo diccionario\n",
    "resultados_finales = {k: v for d in resultados for k, v in d.items()}\n",
    "\n",
    "print(f\"Algunos resultados: {list(resultados_finales.items())[:10]}\")\n"
   ]
  },
  {
   "cell_type": "markdown",
   "metadata": {},
   "source": [
    "Este ejemplo demuestra cómo podemos dividir un problema (calcular la raíz cuadrada de una lista de números) en partes más pequeñas y ejecutar esas partes en paralelo, aprovechando múltiples núcleos de procesamiento. Al hacerlo, completamos la tarea general más rápidamente de lo que podríamos secuencialmente."
   ]
  },
  {
   "cell_type": "markdown",
   "metadata": {},
   "source": [
    "#### Simulación de la arquitectura MIMD"
   ]
  },
  {
   "cell_type": "code",
   "execution_count": null,
   "metadata": {},
   "outputs": [],
   "source": [
    "from multiprocessing import Process, Queue\n",
    "import os\n",
    "\n",
    "def calcular_cuadrados(numeros, resultados):\n",
    "    print(f\"Proceso {os.getpid()} calculando cuadrados.\")\n",
    "    for n in numeros:\n",
    "        resultados.put(n * n)\n",
    "\n",
    "def calcular_cubos(numeros, resultados):\n",
    "    print(f\"Proceso {os.getpid()} calculando cubos.\")\n",
    "    for n in numeros:\n",
    "        resultados.put(n * n * n)\n",
    "\n",
    "if __name__ == \"__main__\":\n",
    "    numeros = range(5)\n",
    "    resultados_cuadrados = Queue()\n",
    "    resultados_cubos = Queue()\n",
    "\n",
    "    proceso_cuadrados = Process(target=calcular_cuadrados, args=(numeros, resultados_cuadrados))\n",
    "    proceso_cubos = Process(target=calcular_cubos, args=(numeros, resultados_cubos))\n",
    "\n",
    "    proceso_cuadrados.start()\n",
    "    proceso_cubos.start()\n",
    "\n",
    "    proceso_cuadrados.join()\n",
    "    proceso_cubos.join()\n",
    "\n",
    "    while not resultados_cuadrados.empty():\n",
    "        print(f\"Cuadrado: {resultados_cuadrados.get()}\")\n",
    "\n",
    "    while not resultados_cubos.empty():\n",
    "        print(f\"Cubo: {resultados_cubos.get()}\")\n"
   ]
  },
  {
   "cell_type": "markdown",
   "metadata": {},
   "source": [
    "Este script ilustra el concepto de MIMD, ejecutando dos tareas distintas (calcular cuadrados y cubos) en paralelo, cada una en su propio proceso. A través de este enfoque, podemos ver cómo diferentes instrucciones operan sobre diferentes conjuntos de datos, un eco de la flexibilidad y potencia que las arquitecturas MIMD ofrecen en el mundo real de la computación paralela."
   ]
  },
  {
   "cell_type": "markdown",
   "metadata": {},
   "source": [
    "#### Simulando la paralelización automática"
   ]
  },
  {
   "cell_type": "code",
   "execution_count": null,
   "metadata": {},
   "outputs": [],
   "source": [
    "from concurrent.futures import ThreadPoolExecutor\n",
    "import time\n",
    "\n",
    "# Función que simula una tarea que consume tiempo\n",
    "def tarea_lenta(n):\n",
    "    print(f\"Iniciando tarea {n}\")\n",
    "    time.sleep(2)  # Simula tiempo de procesamiento\n",
    "    print(f\"Tarea {n} completada\")\n",
    "    return f\"Resultado de tarea {n}\"\n",
    "\n",
    "# Ejecución secuencial\n",
    "inicio_sec = time.time()\n",
    "for i in range(3):\n",
    "    resultado = tarea_lenta(i)\n",
    "    print(resultado)\n",
    "fin_sec = time.time()\n",
    "print(f\"Tiempo de ejecución secuencial: {fin_sec - inicio_sec} segundos\")\n",
    "\n",
    "# Ejecución paralela\n",
    "inicio_par = time.time()\n",
    "with ThreadPoolExecutor(max_workers=3) as executor:\n",
    "    resultados = list(executor.map(tarea_lenta, range(3)))\n",
    "    for resultado in resultados:\n",
    "        print(resultado)\n",
    "fin_par = time.time()\n",
    "print(f\"Tiempo de ejecución paralela: {fin_par - inicio_par} segundos\")\n"
   ]
  },
  {
   "cell_type": "markdown",
   "metadata": {},
   "source": [
    "En este ejemplo, la tarea de ejecución secuencial que tardaría 6 segundos (simulando tres tareas que tardan 2 segundos cada una), se completa en aproximadamente 2 segundos con la ejecución paralela, mostrando el potencial de la paralelización para mejorar la eficiencia."
   ]
  },
  {
   "cell_type": "markdown",
   "metadata": {},
   "source": [
    "#### Uso de multiprocessing para paralelismo"
   ]
  },
  {
   "cell_type": "code",
   "execution_count": null,
   "metadata": {},
   "outputs": [],
   "source": [
    "from multiprocessing import Pool\n",
    "\n",
    "# Una función que modela una tarea computacionalmente intensiva\n",
    "def tarea_intensiva(n):\n",
    "    sum([i*n for i in range(10000)])\n",
    "    return n\n",
    "\n",
    "# Lista de números para procesar\n",
    "numeros = range(10)\n",
    "\n",
    "# Usar un Pool de procesos para ejecutar nuestras tareas en paralelo\n",
    "if __name__ == '__main__':\n",
    "    with Pool(5) as p:\n",
    "        print(p.map(tarea_intensiva, numeros))\n"
   ]
  },
  {
   "cell_type": "markdown",
   "metadata": {},
   "source": [
    "#### Simulación de procesamiento paralelo\n"
   ]
  },
  {
   "cell_type": "code",
   "execution_count": null,
   "metadata": {},
   "outputs": [],
   "source": [
    "from concurrent.futures import ThreadPoolExecutor\n",
    "import time\n",
    "\n",
    "def tarea_simulada(duracion):\n",
    "    print(f\"Iniciando tarea que tarda {duracion} segundos\")\n",
    "    time.sleep(duracion)\n",
    "    return f\"Tarea que tarda {duracion} segundos completada\"\n",
    "\n",
    "# Lista de duraciones para cada tarea\n",
    "duracion_de_tareas = [1, 3, 2, 4]\n",
    "\n",
    "# Ejecutar tareas en paralelo\n",
    "with ThreadPoolExecutor(max_workers=4) as executor:\n",
    "    resultados = list(executor.map(tarea_simulada, duracion_de_tareas))\n",
    "\n",
    "for resultado in resultados:\n",
    "    print(resultado)\n"
   ]
  },
  {
   "cell_type": "markdown",
   "metadata": {},
   "source": [
    "Este script simula la ejecución de varias tareas con diferentes duraciones en paralelo, utilizando un pool de threads. Cada tarea representa un cálculo o proceso que se puede realizar simultáneamente, reflejando el concepto de procesamiento paralelo dentro del contexto más amplio de la computación paralela."
   ]
  },
  {
   "cell_type": "markdown",
   "metadata": {},
   "source": [
    "#### Computación secuencial vs. paralela"
   ]
  },
  {
   "cell_type": "code",
   "execution_count": null,
   "metadata": {},
   "outputs": [],
   "source": [
    "import time\n",
    "from multiprocessing import Pool\n",
    "\n",
    "# Tarea simulada para demostrar tiempo de procesamiento\n",
    "def tarea_simulada(duracion):\n",
    "    time.sleep(duracion)\n",
    "    return duracion\n",
    "\n",
    "# Lista de tareas con duraciones simuladas\n",
    "tareas = [1, 2, 3, 4]\n",
    "\n",
    "# Computación secuencial\n",
    "inicio_sec = time.time()\n",
    "for tarea in tareas:\n",
    "    tarea_simulada(tarea)\n",
    "fin_sec = time.time()\n",
    "print(f\"Computación secuencial completada en {fin_sec - inicio_sec} segundos.\")\n",
    "\n",
    "# Computación paralela\n",
    "inicio_par = time.time()\n",
    "with Pool(4) as p:\n",
    "    p.map(tarea_simulada, tareas)\n",
    "fin_par = time.time()\n",
    "print(f\"Computación paralela completada en {fin_par - inicio_par} segundos.\")\n"
   ]
  },
  {
   "cell_type": "markdown",
   "metadata": {},
   "source": [
    "Este código demuestra cómo el procesamiento paralelo puede reducir significativamente el tiempo total necesario para completar un conjunto de tareas en comparación con un enfoque secuencial, destacando la eficiencia que la computación paralela puede aportar a problemas complejos."
   ]
  },
  {
   "cell_type": "markdown",
   "metadata": {},
   "source": [
    "#### Simulando escalabilidad y resiliencia"
   ]
  },
  {
   "cell_type": "code",
   "execution_count": null,
   "metadata": {},
   "outputs": [],
   "source": [
    "from multiprocessing import Process, current_process\n",
    "import os\n",
    "import time\n",
    "import random\n",
    "\n",
    "def tarea_distribuida():\n",
    "    print(f\"Proceso {current_process().name} iniciado.\")\n",
    "    # Simula tiempo de ejecución con una pausa\n",
    "    tiempo = random.randint(1, 5)\n",
    "    time.sleep(tiempo)\n",
    "    print(f\"Proceso {current_process().name} completado en {tiempo} segundos.\")\n",
    "\n",
    "if __name__ == '__main__':\n",
    "    procesos = []\n",
    "\n",
    "    # Crear procesos para simular nodos adicionales\n",
    "    for i in range(5):\n",
    "        proceso = Process(target=tarea_distribuida, name=f\"Nodo_{i+1}\")\n",
    "        procesos.append(proceso)\n",
    "        proceso.start()\n",
    "\n",
    "    # Esperar a que todos los procesos terminen\n",
    "    for proceso in procesos:\n",
    "        proceso.join()\n",
    "\n",
    "    print(\"Todos los nodos han completado sus tareas.\")\n"
   ]
  },
  {
   "cell_type": "markdown",
   "metadata": {},
   "source": [
    "Este código crea varios procesos que simulan nodos en un sistema distribuido, demostrando cómo se pueden añadir \"nodos\" para manejar tareas paralelas y cómo la falla (simulada aquí por tiempos de ejecución variables) de un nodo no impide que el sistema complete su trabajo."
   ]
  },
  {
   "cell_type": "markdown",
   "metadata": {},
   "source": [
    "### Ejercicios\n",
    "\n",
    "1. ¿Cuál es la principal diferencia entre la programación concurrente usando memoria compartida y el paso de mensajes?\n",
    "\n",
    "2. Describe una situación donde el modelo de paso de mensajes sería preferible sobre el modelo de memoria compartida.\n",
    "\n",
    "3. Explica cómo los threads dentro de un mismo proceso comparten recursos y qué desafíos puede presentar esta compartición.\n",
    "\n",
    "4. ¿Cómo contribuye el time-slicing a la ilusión de multitarea en sistemas operativos de un solo núcleo?\n",
    "\n",
    "5. ¿Por qué es importante asegurar que las modificaciones a estructuras de datos compartidas sean atómicas en programación concurrente?\n",
    "\n",
    "6. ¿Qué hace que las condiciones de carrera sean especialmente difíciles de identificar y corregir en la programación concurrente?\n",
    "\n",
    "7. Describe cómo la computación paralela puede ser utilizada en el procesamiento de imágenes.\n",
    "\n",
    "8. Explica la diferencia entre las arquitecturas SIMD y MIMD.\n",
    "\n",
    "9. ¿Cuáles son las ventajas de utilizar procesadores multi-núcleo para la computación paralela?\n",
    "\n",
    "10. ¿Cómo afecta el SMP a la visibilidad uniforme de la memoria entre CPUs?\n",
    "\n",
    "11. Proporciona un ejemplo de cómo la computación distribuida puede ser aplicada en el mundo real.\n",
    "\n",
    "12. [Numba](https://numba.pydata.org/) es una biblioteca que puede traducir automáticamente un subconjunto de operaciones Python y NumPy a código de máquina rápido. Esto se puede usar para automatizar la paralelización de ciertos cálculos intensivos en datos. Utiliza Numba para paralelizar una operación simple sobre un array de NumPy.\n",
    "    ```\n",
    "    pip install numba\n",
    "  \n",
    "    from numba import jit, prange\n",
    "    import numpy as np\n",
    "\n",
    "    @jit(nopython=True, parallel=True)\n",
    "        ...\n",
    "```     \n",
    "\n"
   ]
  },
  {
   "cell_type": "markdown",
   "metadata": {},
   "source": [
    "13. Dask es una biblioteca de Python flexible para computación paralela que se adapta bien a los entornos de sistemas distribuidos, especialmente para el análisis de datos a gran escala. Dask permite realizar cálculos paralelos sobre datasets que no caben en la memoria, distribuyéndolos a través de múltiples núcleos o incluso máquinas. \n",
    "Completa el código apra  utilizar Dask para paralelizar y distribuir cálculos de manera efectiva.\n",
    "\n",
    "    Primero, asegúrate de instalar Dask:\n",
    "\n",
    "    ```\n",
    "    pip install dask[distributed]  # Instala Dask y las herramientas para sistemas distribuidos\n",
    "    ```\n",
    "\n",
    "    Este ejemplo crea un array Dask grande, que se divide en trozos más pequeños (chunks), y luego calcula la suma de todos los elementos del array. Al trabajar con Dask, estos cálculos se pueden distribuir automáticamente a través de los núcleos disponibles en tu máquina, o en un clúster de máquinas, si se configura.\n",
    "\n",
    "    ```\n",
    "    from dask.distributed import Client\n",
    "    import dask.array as da\n",
    "\n",
    "    def main():\n",
    "        # Iniciar un cliente Dask. Esto nos conectará a un clúster si existe,\n",
    "        # o iniciará uno localmente si no hay ninguno.\n",
    "        client = Client()\n",
    "\n",
    "        # Crea un array Dask grande, de forma similar a como se haría con NumPy\n",
    "        # pero especificando el tamaño de 'chunks' para la división en trozos.\n",
    "        // Completa\n",
    "\n",
    "        # Calcula la suma del array.\n",
    "        suma_total = array.sum()\n",
    "\n",
    "        # Dask utiliza ejecución perezosa, así que necesitamos llamar a .compute()\n",
    "        # para forzar la ejecución del cálculo.\n",
    "        resultado = suma_total.compute()\n",
    "\n",
    "        print(f\"La suma total del array es: {resultado}\")\n",
    "\n",
    "    if __name__ == \"__main__\":\n",
    "        main()\n",
    "    ```"
   ]
  },
  {
   "cell_type": "markdown",
   "metadata": {},
   "source": [
    "#### Completa"
   ]
  }
 ],
 "metadata": {
  "kernelspec": {
   "display_name": "base",
   "language": "python",
   "name": "python3"
  },
  "language_info": {
   "codemirror_mode": {
    "name": "ipython",
    "version": 3
   },
   "file_extension": ".py",
   "mimetype": "text/x-python",
   "name": "python",
   "nbconvert_exporter": "python",
   "pygments_lexer": "ipython3",
   "version": "3.7.10"
  }
 },
 "nbformat": 4,
 "nbformat_minor": 2
}
